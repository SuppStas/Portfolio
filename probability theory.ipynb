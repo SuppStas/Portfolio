{
 "cells": [
  {
   "cell_type": "code",
   "execution_count": 2,
   "metadata": {},
   "outputs": [],
   "source": [
    "import pandas as pd\n",
    "import matplotlib.pyplot as plt\n",
    "import numpy as np \n",
    "import seaborn as sns \n",
    "from scipy import stats "
   ]
  },
  {
   "cell_type": "code",
   "execution_count": 3,
   "metadata": {},
   "outputs": [],
   "source": [
    "file_path = r'C:\\Users\\Asus\\Desktop\\TSU\\Анализ данных\\ДЗ_статистика\\data\\task1\\physics-vs-lyrics.csv'\n",
    "df = pd.read_csv(file_path, sep = '\\t')"
   ]
  },
  {
   "cell_type": "code",
   "execution_count": 4,
   "metadata": {},
   "outputs": [
    {
     "data": {
      "text/html": [
       "<div>\n",
       "<style scoped>\n",
       "    .dataframe tbody tr th:only-of-type {\n",
       "        vertical-align: middle;\n",
       "    }\n",
       "\n",
       "    .dataframe tbody tr th {\n",
       "        vertical-align: top;\n",
       "    }\n",
       "\n",
       "    .dataframe thead th {\n",
       "        text-align: right;\n",
       "    }\n",
       "</style>\n",
       "<table border=\"1\" class=\"dataframe\">\n",
       "  <thead>\n",
       "    <tr style=\"text-align: right;\">\n",
       "      <th></th>\n",
       "      <th>id</th>\n",
       "      <th>Тип мышления</th>\n",
       "      <th>Пол</th>\n",
       "      <th>Балл</th>\n",
       "    </tr>\n",
       "  </thead>\n",
       "  <tbody>\n",
       "    <tr>\n",
       "      <th>0</th>\n",
       "      <td>225070</td>\n",
       "      <td>лирик</td>\n",
       "      <td>ж</td>\n",
       "      <td>39</td>\n",
       "    </tr>\n",
       "    <tr>\n",
       "      <th>1</th>\n",
       "      <td>166928</td>\n",
       "      <td>лирик</td>\n",
       "      <td>ж</td>\n",
       "      <td>39</td>\n",
       "    </tr>\n",
       "    <tr>\n",
       "      <th>2</th>\n",
       "      <td>724664</td>\n",
       "      <td>лирик</td>\n",
       "      <td>ж</td>\n",
       "      <td>48</td>\n",
       "    </tr>\n",
       "    <tr>\n",
       "      <th>3</th>\n",
       "      <td>381522</td>\n",
       "      <td>лирик</td>\n",
       "      <td>ж</td>\n",
       "      <td>58</td>\n",
       "    </tr>\n",
       "    <tr>\n",
       "      <th>4</th>\n",
       "      <td>568374</td>\n",
       "      <td>физик</td>\n",
       "      <td>м</td>\n",
       "      <td>70</td>\n",
       "    </tr>\n",
       "  </tbody>\n",
       "</table>\n",
       "</div>"
      ],
      "text/plain": [
       "       id Тип мышления Пол  Балл\n",
       "0  225070        лирик   ж    39\n",
       "1  166928        лирик   ж    39\n",
       "2  724664        лирик   ж    48\n",
       "3  381522        лирик   ж    58\n",
       "4  568374        физик   м    70"
      ]
     },
     "execution_count": 4,
     "metadata": {},
     "output_type": "execute_result"
    }
   ],
   "source": [
    "df.head()"
   ]
  },
  {
   "cell_type": "code",
   "execution_count": 5,
   "metadata": {},
   "outputs": [
    {
     "data": {
      "text/plain": [
       "id               int64\n",
       "Тип мышления    object\n",
       "Пол             object\n",
       "Балл             int64\n",
       "dtype: object"
      ]
     },
     "execution_count": 5,
     "metadata": {},
     "output_type": "execute_result"
    }
   ],
   "source": [
    "df.dtypes"
   ]
  },
  {
   "cell_type": "code",
   "execution_count": 6,
   "metadata": {},
   "outputs": [],
   "source": [
    "df = df.rename(columns = {'Тип мышления': 'mindset', 'Пол': 'sex', 'Балл': 'points'})"
   ]
  },
  {
   "cell_type": "code",
   "execution_count": 7,
   "metadata": {},
   "outputs": [],
   "source": [
    "#Предварительно построим необходимые датафреймы, которые понадобятся в дальнейшем для ответа на вопросы задачи\n",
    "df_boys = df[df['sex'] == 'м']\n",
    "df_girls = df[df['sex'] == 'ж']\n",
    "df_physics = df[df['mindset'] == 'физик']\n",
    "df_lyrics = df[df['mindset'] == 'лирик']"
   ]
  },
  {
   "cell_type": "code",
   "execution_count": 8,
   "metadata": {},
   "outputs": [
    {
     "data": {
      "image/png": "[encoded data removed]",
      "text/plain": [
       "<Figure size 640x480 with 1 Axes>"
      ]
     },
     "metadata": {},
     "output_type": "display_data"
    }
   ],
   "source": [
    "distribution = sns.histplot(df['points'])"
   ]
  },
  {
   "cell_type": "code",
   "execution_count": 9,
   "metadata": {},
   "outputs": [
    {
     "data": {
      "image/png": "[encoded data removed]",
      "text/plain": [
       "<Figure size 640x480 with 1 Axes>"
      ]
     },
     "metadata": {},
     "output_type": "display_data"
    }
   ],
   "source": [
    "distribution_boys = sns.histplot(df_boys['points'])"
   ]
  },
  {
   "cell_type": "code",
   "execution_count": 10,
   "metadata": {},
   "outputs": [],
   "source": [
    "#1 Построить 95%-доверительные интервалы для среднего балла:\n",
    "#a  по данным всей выборки; \n",
    "#b  отдельно для каждой из групп «физиков» и «лириков»; \n",
    "#c  отдельно для юношей и девушек."
   ]
  },
  {
   "cell_type": "code",
   "execution_count": 11,
   "metadata": {},
   "outputs": [
    {
     "data": {
      "text/plain": [
       "(np.float64(54.453811944870196), np.float64(56.6701880551298))"
      ]
     },
     "execution_count": 11,
     "metadata": {},
     "output_type": "execute_result"
    }
   ],
   "source": [
    "#a \n",
    "mean_point = float(df.points.mean())\n",
    "n = df.shape[0]\n",
    "std = np.std(df.points, ddof = 1) \n",
    "coefficient = std/n**0.5\n",
    "alpha = 0.05\n",
    "t_critical = stats.t.ppf(1-alpha/2, df=n-1)\n",
    "lower_mean = mean_point - t_critical * coefficient\n",
    "upper_mean = mean_point + t_critical * coefficient\n",
    "lower_mean, upper_mean"
   ]
  },
  {
   "cell_type": "code",
   "execution_count": 12,
   "metadata": {},
   "outputs": [],
   "source": [
    "#Реализуем функцию для решения первого пункта \n",
    "def confidence_interval(data, alpha=0.05):\n",
    "    mean_point = data['points'].mean()\n",
    "    n = data.shape[0]\n",
    "    std = np.std(data['points'], ddof = 1)\n",
    "    coefficient = std/n**0.5\n",
    "    \n",
    "    t_critical = stats.t.ppf(1-alpha/2, df=n-1)\n",
    "    lower = mean_point - t_critical * coefficient\n",
    "    upper = mean_point + t_critical * coefficient\n",
    "    \n",
    "    \n",
    "    return f'Полученный доверительный интервал: [{lower}; {upper}]'"
   ]
  },
  {
   "cell_type": "code",
   "execution_count": 13,
   "metadata": {},
   "outputs": [
    {
     "data": {
      "text/plain": [
       "'Полученный доверительный интервал: [54.453811944870196; 56.6701880551298]'"
      ]
     },
     "execution_count": 13,
     "metadata": {},
     "output_type": "execute_result"
    }
   ],
   "source": [
    "#a\n",
    "confidence_interval(df, 0.05)"
   ]
  },
  {
   "cell_type": "code",
   "execution_count": 14,
   "metadata": {},
   "outputs": [
    {
     "data": {
      "text/plain": [
       "'Полученный доверительный интервал: [54.83482694868374; 57.94226916583568]'"
      ]
     },
     "execution_count": 14,
     "metadata": {},
     "output_type": "execute_result"
    }
   ],
   "source": [
    "#b\n",
    "confidence_interval(df_physics)\n",
    "\n",
    "\n",
    "#confidence_interval(df_lyrics)"
   ]
  },
  {
   "cell_type": "code",
   "execution_count": 15,
   "metadata": {},
   "outputs": [
    {
     "data": {
      "text/plain": [
       "'Полученный доверительный интервал: [55.79216865255584; 58.91699469405771]'"
      ]
     },
     "execution_count": 15,
     "metadata": {},
     "output_type": "execute_result"
    }
   ],
   "source": [
    "#c\n",
    "confidence_interval(df_boys)\n",
    "\n",
    "#confidence_interval(df_girls)"
   ]
  },
  {
   "cell_type": "code",
   "execution_count": 16,
   "metadata": {},
   "outputs": [],
   "source": [
    "#2 Проверить на 5% уровне значимости гипотезу о том, что средний балл = 55, против двусторонней и двух односторонних альтернатив:\n",
    "#a по данным всей выборки; \n",
    "#b отдельно для каждой из групп «физиков» и «лириков»; \n",
    "#c отдельно для юношей и девушек"
   ]
  },
  {
   "cell_type": "code",
   "execution_count": 17,
   "metadata": {},
   "outputs": [],
   "source": [
    "def t_test(df, A0, alpha=0.05, alternative='<>'):\n",
    "    \"\"\"t-тест для проверки гипотезы E(X) = A0.\n",
    "\n",
    "    Args:\n",
    "        X (iterable): выборка.\n",
    "\n",
    "        A0 (double): тестируемое значение гипотезы H0.\n",
    "\n",
    "        alpha (float, optional): уровень значимости, defaults to 5%.\n",
    "\n",
    "        alternative (str, optional): вид альтернативной гипотезы,\n",
    "        возможные значения '<', '>', '<>', defaults to '<>'.\n",
    "    \"\"\"\n",
    "        \n",
    "    n = df.shape[0]\n",
    "    a = np.mean(df['points'])\n",
    "    coefficient = np.std(df['points'], ddof=1) / n**0.5\n",
    "    \n",
    "    t = (a - A0) / coefficient\n",
    "\n",
    "    if alternative == '<>':\n",
    "        t_critical = stats.t.ppf(1-alpha/2, df=n-1)\n",
    "        p_value = 2*min(stats.t.cdf(t, df=n-1), stats.t.cdf(1-t, df=n-1), 1/2)\n",
    "    elif alternative == '>':\n",
    "        t_critical = stats.t.ppf(1-alpha, df=n-1)\n",
    "        p_value = 1 - stats.t.cdf(t, df=n-1)\n",
    "    elif alternative == '<':\n",
    "        t_critical = stats.t.ppf(alpha, df=n-1)\n",
    "        p_value = stats.t.cdf(t, df=n-1)\n",
    "    else:\n",
    "        print (f'Указан некорректный вид альтернативной гипотезы!')\n",
    "        return None\n",
    "\n",
    "    return {\n",
    "        't': t, \n",
    "        't_critical': t_critical, \n",
    "        'p_value': p_value, \n",
    "        'h0_rejected': p_value < alpha\n",
    "    }\n"
   ]
  },
  {
   "cell_type": "code",
   "execution_count": 18,
   "metadata": {},
   "outputs": [
    {
     "data": {
      "text/plain": [
       "{'t': np.float64(0.9951703558362369),\n",
       " 't_critical': np.float64(-1.6463803454275356),\n",
       " 'p_value': np.float64(0.8400528014457656),\n",
       " 'h0_rejected': np.False_}"
      ]
     },
     "execution_count": 18,
     "metadata": {},
     "output_type": "execute_result"
    }
   ],
   "source": [
    "#a \"<>\"\n",
    "#t_test(df, 55, 0.05, alternative='<>')\n",
    "#a \">\"\n",
    "#t_test(df, 55, 0.05, alternative='>')\n",
    "#a \"<\"\n",
    "t_test(df, 55, 0.05, alternative='<')\n"
   ]
  },
  {
   "cell_type": "code",
   "execution_count": 19,
   "metadata": {},
   "outputs": [
    {
     "data": {
      "text/plain": [
       "{'t': np.float64(1.7559590852891516),\n",
       " 't_critical': np.float64(-1.6479820768102469),\n",
       " 'p_value': np.float64(0.9601386553399743),\n",
       " 'h0_rejected': np.False_}"
      ]
     },
     "execution_count": 19,
     "metadata": {},
     "output_type": "execute_result"
    }
   ],
   "source": [
    "\n",
    "#b \"<>\" \"physics\"\n",
    "t_test(df_physics, 55, 0.05, alternative='<>')\n",
    "#b \">\" \"physics\"\n",
    "t_test(df_physics, 55, 0.05, alternative='>')\n",
    "#b \"<\" \"physics\"\n",
    "t_test(df_physics, 55, 0.05, alternative='<')\n",
    "\n",
    "\n"
   ]
  },
  {
   "cell_type": "code",
   "execution_count": 20,
   "metadata": {},
   "outputs": [
    {
     "data": {
      "text/plain": [
       "{'t': np.float64(-0.2845569664319203),\n",
       " 't_critical': np.float64(-1.6478468772297017),\n",
       " 'p_value': np.float64(0.3880495442955611),\n",
       " 'h0_rejected': np.False_}"
      ]
     },
     "execution_count": 20,
     "metadata": {},
     "output_type": "execute_result"
    }
   ],
   "source": [
    "\n",
    "#b \"<>\" \"lyrics\"\n",
    "t_test(df_lyrics, 55, 0.05, alternative='<>')\n",
    "#b \">\" \"lyrics\"\n",
    "t_test(df_lyrics, 55, 0.05, alternative='>')\n",
    "#b \"<\" \"lyrics\"\n",
    "t_test(df_lyrics, 55, 0.05, alternative='<')\n",
    "\n",
    "\n"
   ]
  },
  {
   "cell_type": "code",
   "execution_count": 21,
   "metadata": {},
   "outputs": [
    {
     "data": {
      "text/plain": [
       "{'t': np.float64(2.960850208306361),\n",
       " 't_critical': np.float64(-1.6479007483164256),\n",
       " 'p_value': np.float64(0.9983933004654525),\n",
       " 'h0_rejected': np.False_}"
      ]
     },
     "execution_count": 21,
     "metadata": {},
     "output_type": "execute_result"
    }
   ],
   "source": [
    "#c \"<>\" \"boys\"\n",
    "t_test(df_boys, 55, 0.05, alternative='<>')\n",
    "#c \">\" \"boys\"\n",
    "t_test(df_boys, 55, 0.05, alternative='>')\n",
    "#c \"<\" \"boys\"\n",
    "t_test(df_boys, 55, 0.05, alternative='<')\n"
   ]
  },
  {
   "cell_type": "code",
   "execution_count": 22,
   "metadata": {},
   "outputs": [
    {
     "data": {
      "text/plain": [
       "{'t': np.float64(-1.5666228373687106),\n",
       " 't_critical': np.float64(-1.6479253184645497),\n",
       " 'p_value': np.float64(0.05891966353265356),\n",
       " 'h0_rejected': np.False_}"
      ]
     },
     "execution_count": 22,
     "metadata": {},
     "output_type": "execute_result"
    }
   ],
   "source": [
    "#c \"<>\" \"girls\"\n",
    "t_test(df_girls, 55, 0.05, alternative='<>')\n",
    "#c \">\" \"girls\"\n",
    "t_test(df_girls, 55, 0.05, alternative='>')\n",
    "#c \"<\" \"girls\"\n",
    "t_test(df_girls, 55, 0.05, alternative='<')\n"
   ]
  },
  {
   "cell_type": "code",
   "execution_count": 23,
   "metadata": {},
   "outputs": [],
   "source": [
    "#3 Проверить на 5% уровне значимости гипотезу о равенстве средних баллов:\n",
    "#a отдельно для каждой из групп «физиков» и «лириков»; \n",
    "#b отдельно для юношей и девушек; \n",
    "#c отдельно для групп «физики-юноши и девушки-лирики» против остальных. "
   ]
  },
  {
   "cell_type": "code",
   "execution_count": 37,
   "metadata": {},
   "outputs": [],
   "source": [
    "#Создадим новые датафреймы для решения данной задачи \n",
    "df_physics_boys = df_physics[df_physics['sex'] == 'м']\n",
    "df_lyrics_girls = df_lyrics[df_lyrics['sex'] == 'ж']\n",
    "condition = ((df['sex'] == 'м') & (df['mindset'] == 'лирик')) | (df['sex'] == 'ж') \n",
    "condition_1 = ((df['sex'] == 'ж') & (df['mindset'] == 'физик')) | (df['sex'] == 'м')\n",
    "df_except_physics_boys = df[condition]\n",
    "df_except_lyrics_girls = df[condition_1]"
   ]
  },
  {
   "cell_type": "code",
   "execution_count": 25,
   "metadata": {},
   "outputs": [],
   "source": [
    "def t_test2(df, df_1, alpha=0.05, alternative='<>'):\n",
    "    \"\"\"t-тест Уэлча для проверки гипотезы E(X) = E(Y).\n",
    "\n",
    "    Args:\n",
    "        X (iterable): выборка X.\n",
    "        \n",
    "        Y (iterable): выборка Y.\n",
    "\n",
    "        alpha (float, optional): уровень значимости, defaults to 5%.\n",
    "\n",
    "        alternative (str, optional): вид альтернативной гипотезы,\n",
    "        возможные значения '<', '>', '<>', defaults to '<>'.\n",
    "\n",
    "        см. двухвыборочный t-критерий для независимых выборок\n",
    "            (https://ru.wikipedia.org/wiki/T-критерий_Стьюдента)\n",
    "    \"\"\"\n",
    "    n = len(df)\n",
    "    a = np.mean(df['points'])\n",
    "    v = np.var(df['points'], ddof=1) / n\n",
    "\n",
    "\n",
    "    n_1 = len(df_1)\n",
    "    a_1 = np.mean(df_1['points'])\n",
    "    v_1 = np.var(df_1['points'], ddof=1) / n_1\n",
    "\n",
    "\n",
    "    se = (v + v_1)**0.5\n",
    "    t = (a - a_1) / se\n",
    "    df = int((v + v_1)**2 / (v**2/(n-1) + v_1**2/(n_1-1)) + 1/2)\n",
    "\n",
    "    if alternative == '<>':\n",
    "        t_critical = stats.t.ppf(1-alpha/2, df=df)\n",
    "        p_value = 2*min(stats.t.cdf(t, df=df), stats.t.cdf(1-t, df=df), 1/2)\n",
    "    elif alternative == '>':\n",
    "        t_critical = stats.t.ppf(1-alpha, df=df)\n",
    "        p_value = 1 - stats.t.cdf(t, df=df)\n",
    "    elif alternative == '<':\n",
    "        t_critical = stats.t.ppf(alpha, df=df)\n",
    "        p_value = stats.t.cdf(t, df=df)\n",
    "    else:\n",
    "        print (f'Указан некорректный вид альтернативной гипотезы!')\n",
    "        return None\n",
    "    \n",
    "    return {\n",
    "        't': t, \n",
    "        't_critical': t_critical, \n",
    "        'p_value': p_value, \n",
    "        'h0_rejected': p_value < alpha\n",
    "    }"
   ]
  },
  {
   "cell_type": "code",
   "execution_count": 26,
   "metadata": {},
   "outputs": [
    {
     "data": {
      "text/plain": [
       "{'t': np.float64(1.4337659941895144),\n",
       " 't_critical': np.float64(1.9623438462163336),\n",
       " 'p_value': np.float64(0.6645521248586106),\n",
       " 'h0_rejected': np.False_}"
      ]
     },
     "execution_count": 26,
     "metadata": {},
     "output_type": "execute_result"
    }
   ],
   "source": [
    "#a physics <> lyrics \n",
    "t_test2(df_physics, df_lyrics)"
   ]
  },
  {
   "cell_type": "code",
   "execution_count": 27,
   "metadata": {},
   "outputs": [
    {
     "data": {
      "text/plain": [
       "{'t': np.float64(3.2017465606859),\n",
       " 't_critical': np.float64(1.9623438462163336),\n",
       " 'p_value': np.float64(0.027911408949461786),\n",
       " 'h0_rejected': np.True_}"
      ]
     },
     "execution_count": 27,
     "metadata": {},
     "output_type": "execute_result"
    }
   ],
   "source": [
    "#b boys <> girls \n",
    "t_test2(df_boys, df_girls)"
   ]
  },
  {
   "cell_type": "code",
   "execution_count": 28,
   "metadata": {},
   "outputs": [
    {
     "data": {
      "text/plain": [
       "{'t': np.float64(3.2017465606859),\n",
       " 't_critical': np.float64(1.6463818766348755),\n",
       " 'p_value': np.float64(0.0007045734501036627),\n",
       " 'h0_rejected': np.True_}"
      ]
     },
     "execution_count": 28,
     "metadata": {},
     "output_type": "execute_result"
    }
   ],
   "source": [
    "#b boys > girls \n",
    "t_test2(df_boys, df_girls, 0.05, '>')"
   ]
  },
  {
   "cell_type": "code",
   "execution_count": 29,
   "metadata": {},
   "outputs": [
    {
     "data": {
      "text/plain": [
       "{'t': np.float64(3.2017465606859),\n",
       " 't_critical': np.float64(-1.6463818766348761),\n",
       " 'p_value': np.float64(0.9992954265498963),\n",
       " 'h0_rejected': np.False_}"
      ]
     },
     "execution_count": 29,
     "metadata": {},
     "output_type": "execute_result"
    }
   ],
   "source": [
    "#b boys < girls \n",
    "t_test2(df_boys, df_girls, 0.05, '<')"
   ]
  },
  {
   "cell_type": "code",
   "execution_count": 30,
   "metadata": {},
   "outputs": [
    {
     "data": {
      "text/plain": [
       "{'t': np.float64(4.52000692375803),\n",
       " 't_critical': np.float64(1.9655746975220503),\n",
       " 'p_value': np.float64(0.0004782796234229552),\n",
       " 'h0_rejected': np.True_}"
      ]
     },
     "execution_count": 30,
     "metadata": {},
     "output_type": "execute_result"
    }
   ],
   "source": [
    "#c physics_boys <> others  \n",
    "t_test2(df_physics_boys, df_except_physics_boys, 0.05, '<>')"
   ]
  },
  {
   "cell_type": "code",
   "execution_count": 31,
   "metadata": {},
   "outputs": [
    {
     "data": {
      "text/plain": [
       "{'t': np.float64(4.52000692375803),\n",
       " 't_critical': np.float64(1.6484553348678077),\n",
       " 'p_value': np.float64(4.016328123968016e-06),\n",
       " 'h0_rejected': np.True_}"
      ]
     },
     "execution_count": 31,
     "metadata": {},
     "output_type": "execute_result"
    }
   ],
   "source": [
    "#c physics_boys <> others  \n",
    "t_test2(df_physics_boys, df_except_physics_boys, 0.05, '>')"
   ]
  },
  {
   "cell_type": "code",
   "execution_count": 39,
   "metadata": {},
   "outputs": [
    {
     "data": {
      "text/plain": [
       "{'t': np.float64(-0.8716094915479846),\n",
       " 't_critical': np.float64(1.965601363660263),\n",
       " 'p_value': np.float64(0.3839170485747885),\n",
       " 'h0_rejected': np.False_}"
      ]
     },
     "execution_count": 39,
     "metadata": {},
     "output_type": "execute_result"
    }
   ],
   "source": [
    "#c lyrics_girls <> others  \n",
    "t_test2(df_lyrics_girls, df_except_lyrics_girls, 0.05, '<>')"
   ]
  },
  {
   "cell_type": "code",
   "execution_count": 40,
   "metadata": {},
   "outputs": [
    {
     "data": {
      "text/plain": [
       "{'t': np.float64(-0.8716094915479846),\n",
       " 't_critical': np.float64(1.6484724423143493),\n",
       " 'p_value': np.float64(0.8080414757126058),\n",
       " 'h0_rejected': np.False_}"
      ]
     },
     "execution_count": 40,
     "metadata": {},
     "output_type": "execute_result"
    }
   ],
   "source": [
    "#c lyrics_girls > others  \n",
    "t_test2(df_lyrics_girls, df_except_lyrics_girls, 0.05, '>')"
   ]
  },
  {
   "cell_type": "code",
   "execution_count": 34,
   "metadata": {},
   "outputs": [
    {
     "data": {
      "text/plain": [
       "{'t': np.float64(-0.8716094915479846),\n",
       " 't_critical': np.float64(-1.64847244231435),\n",
       " 'p_value': np.float64(0.19195852428739424),\n",
       " 'h0_rejected': np.False_}"
      ]
     },
     "execution_count": 34,
     "metadata": {},
     "output_type": "execute_result"
    }
   ],
   "source": [
    "#c lyrics_girls < others  \n",
    "t_test2(df_lyrics_girls, df_except_lyrics_girls, 0.05, '<')"
   ]
  },
  {
   "cell_type": "code",
   "execution_count": 35,
   "metadata": {},
   "outputs": [],
   "source": [
    "#4 Построить график зависимости мощности теста от размера выборки (от 1 до 1000) при минимальном детектируем эффекте MDE = 2 для уровней значимости 1%, 5% \n",
    "#и 10%. Определить минимальный объём выборки, обеспечивающий мощность теста о равенстве среднего балла не ниже 80% для каждого из уровней значимости. "
   ]
  },
  {
   "cell_type": "code",
   "execution_count": null,
   "metadata": {},
   "outputs": [],
   "source": []
  },
  {
   "cell_type": "code",
   "execution_count": null,
   "metadata": {},
   "outputs": [],
   "source": []
  },
  {
   "cell_type": "code",
   "execution_count": null,
   "metadata": {},
   "outputs": [],
   "source": []
  }
 ],
 "metadata": {
  "kernelspec": {
   "display_name": "Python 3",
   "language": "python",
   "name": "python3"
  },
  "language_info": {
   "codemirror_mode": {
    "name": "ipython",
    "version": 3
   },
   "file_extension": ".py",
   "mimetype": "text/x-python",
   "name": "python",
   "nbconvert_exporter": "python",
   "pygments_lexer": "ipython3",
   "version": "3.12.6"
  }
 },
 "nbformat": 4,
 "nbformat_minor": 2
}
